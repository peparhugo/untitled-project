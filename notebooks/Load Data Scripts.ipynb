{
 "cells": [
  {
   "cell_type": "markdown",
   "metadata": {},
   "source": [
    "# Load data scripts\n",
    "This notebook fires scripts to load businesses and attractions from different sources and merge them into unique entities. Data is stored in Elasticsearch. Finally it loads templates to Kibana for an interactive map.\n",
    "\n",
    "Data Sources:\n",
    "- yelp\n",
    "- trip advisor\n",
    "- skip the dishes\n",
    "- regina tourism\n",
    "- City of Regina Open GIS"
   ]
  },
  {
   "cell_type": "code",
   "execution_count": 13,
   "metadata": {},
   "outputs": [
    {
     "name": "stdout",
     "output_type": "stream",
     "text": [
      "loaded yelp\n",
      "loaded trip advisor\n",
      "loaded skip the dishes\n",
      "loaded regina tourism\n",
      "loaded park amenities\n",
      "loaded dog parks\n",
      "loaded park paths\n",
      "loaded park geometries\n",
      "loaded kibana objects for map\n",
      "got all businesses\n",
      "got businesses near each business\n",
      "got matches\n",
      "loaded matches to els\n",
      "http://localhost:5601/app/maps#/map/9d82a020-d823-11ea-b29a-b5a7bdd10a20?_g=(filters:!(),refreshInterval:(pause:!f,value:0),time:(from:now-15m,to:now))&_a=(filters:!(),query:(language:kuery,query:))\n"
     ]
    }
   ],
   "source": [
    "!python ../scripts/getters/get_regina_data.py\n",
    "!python ../scripts/getters/get_unique_businesses.py"
   ]
  }
 ],
 "metadata": {
  "kernelspec": {
   "display_name": "Python 3",
   "language": "python",
   "name": "python3"
  },
  "language_info": {
   "codemirror_mode": {
    "name": "ipython",
    "version": 3
   },
   "file_extension": ".py",
   "mimetype": "text/x-python",
   "name": "python",
   "nbconvert_exporter": "python",
   "pygments_lexer": "ipython3",
   "version": "3.8.4"
  }
 },
 "nbformat": 4,
 "nbformat_minor": 4
}
